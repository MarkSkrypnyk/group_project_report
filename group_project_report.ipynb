{
 "cells": [
  {
   "cell_type": "markdown",
   "id": "10209c25-c571-4cc5-9848-2e202bc9145f",
   "metadata": {},
   "source": [
    "# Predicting Heart Disease Diagnosis with Serum Cholesterol and Blood Pressure"
   ]
  },
  {
   "cell_type": "markdown",
   "id": "03b9fd45-c228-4d95-a757-5ef4803dc50d",
   "metadata": {},
   "source": [
    "## Introduction"
   ]
  },
  {
   "cell_type": "markdown",
   "id": "049e44aa-6dc8-4212-a6f8-ab151d683251",
   "metadata": {},
   "source": [
    "Heart disease is a major worldwide health concern because it is a common and potentially fatal disorder. To better understand, diagnose, and forecast heart illnesses, academics and healthcare practitioners are utilizing data-driven approaches thanks to technological advancements and the growing availability of health-related statistics. The UCI heart disease dataset stands as a valuable resource in this pursuit, offering a comprehensive set of attributes that can be analyzed to uncover patterns and insights related to cardiovascular health. The primary objective of this project is to address the question: **\"Can we predict heart disease diagnoses based on serum cholesterol and blood pressure?\"** using a knn classification model. High Serum cholesterol and blood pressure are two commonly cited risk factors for heart disease; high cholesterol levels can build up in the walls of the arteries which can decrease the blood flow to the heart and high blood pressure can cause arteries to become hard and thick which can also decrease blood flow to the heart.\n",
    "\n",
    "The data set includes many observations of individuals admitted to  a Cleveland hospital with 14 variables, the two relevant to our preliminary analysis are:\n",
    "1) chol: serum cholestoral\t(mg/dl)\n",
    "2) trest_bps: resting blood pressure (on admission to the hospital)\t(mm Hg)"
   ]
  },
  {
   "cell_type": "markdown",
   "id": "7b80f972-dfad-4028-b822-1a9d7ce54f5f",
   "metadata": {},
   "source": [
    "## Methods & Results"
   ]
  },
  {
   "cell_type": "markdown",
   "id": "875efec8-7d73-45f1-8ac6-7f8744d09e1c",
   "metadata": {},
   "source": []
  },
  {
   "cell_type": "markdown",
   "id": "92332f8c-b8a2-43a3-8561-f08071b2d0d2",
   "metadata": {},
   "source": [
    "## Discussion"
   ]
  },
  {
   "cell_type": "markdown",
   "id": "68f43efc-a05e-457e-a07b-6ef4c0cc8766",
   "metadata": {},
   "source": [
    "Lorem ipsum dolor sit amet, consectetur adipiscing elit. Quisque gravida porta nibh, at convallis nisl sodales gravida. Curabitur non tincidunt orci. Praesent malesuada dapibus lectus at maximus. Praesent hendrerit libero sed ligula aliquam vehicula. Suspendisse nec ultricies massa, vel vulputate nunc. Quisque lacus leo, rutrum vitae arcu ut, molestie hendrerit orci. Ut convallis ac metus vel lacinia. Ut nec faucibus eros, ut dictum augue. Morbi posuere sem et congue sagittis. Curabitur vitae eros eget nulla interdum luctus. Nunc condimentum nibh in mauris accumsan mattis. Quisque faucibus, nisi quis faucibus pellentesque, sapien purus laoreet tortor, quis venenatis leo tellus sit amet velit."
   ]
  },
  {
   "cell_type": "markdown",
   "id": "41c91e01-7a58-40d6-bcfa-f45430d5f395",
   "metadata": {},
   "source": [
    "## References"
   ]
  },
  {
   "cell_type": "markdown",
   "id": "0587e9a4-5e6b-46bb-99ca-4f44d675d2f3",
   "metadata": {},
   "source": [
    "Janosi,Andras, Steinbrunn,William, Pfisterer,Matthias, and Detrano,Robert. (1988). Heart Disease. UCI Machine Learning Repository. https://doi.org/10.24432/C52P4X."
   ]
  },
  {
   "cell_type": "code",
   "execution_count": null,
   "id": "2826f47f-0364-4ce1-a016-fb7b500753b3",
   "metadata": {},
   "outputs": [],
   "source": []
  }
 ],
 "metadata": {
  "kernelspec": {
   "display_name": "R",
   "language": "R",
   "name": "ir"
  },
  "language_info": {
   "codemirror_mode": "r",
   "file_extension": ".r",
   "mimetype": "text/x-r-source",
   "name": "R",
   "pygments_lexer": "r",
   "version": "4.3.1"
  }
 },
 "nbformat": 4,
 "nbformat_minor": 5
}
